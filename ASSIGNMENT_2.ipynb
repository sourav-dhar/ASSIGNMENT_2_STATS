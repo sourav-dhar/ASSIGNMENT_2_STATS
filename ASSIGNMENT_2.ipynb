{
 "cells": [
  {
   "cell_type": "code",
   "execution_count": 1,
   "metadata": {},
   "outputs": [],
   "source": [
    "from scipy import stats\n",
    "import numpy as np\n",
    "import warnings\n",
    "warnings.filterwarnings(\"ignore\")"
   ]
  },
  {
   "cell_type": "code",
   "execution_count": 2,
   "metadata": {},
   "outputs": [
    {
     "name": "stdout",
     "output_type": "stream",
     "text": [
      "Mean sales for Region A: 11.8\n",
      "Mean sales for Region B: 20.2\n"
     ]
    }
   ],
   "source": [
    "#Q1:\n",
    "# Define the sales data for each region\n",
    "region_a_sales = [10, 15, 12, 8, 14]\n",
    "region_b_sales = [18, 20, 16, 22, 25]\n",
    "\n",
    "# Calculate the mean sales for each region\n",
    "mean_region_a = np.mean(region_a_sales)\n",
    "mean_region_b = np.mean(region_b_sales)\n",
    "\n",
    "# Print the mean sales for each region\n",
    "print(\"Mean sales for Region A:\", mean_region_a)\n",
    "print(\"Mean sales for Region B:\", mean_region_b)\n"
   ]
  },
  {
   "cell_type": "code",
   "execution_count": 3,
   "metadata": {},
   "outputs": [
    {
     "name": "stdout",
     "output_type": "stream",
     "text": [
      "Mode of the survey responses: 4\n"
     ]
    }
   ],
   "source": [
    "#Q2:\n",
    "# Define the survey responses\n",
    "survey_responses = [4, 5, 2, 3, 5, 4, 3, 2, 4, 5]\n",
    "\n",
    "# Calculate the mode of the survey responses\n",
    "mode_responses = stats.mode(survey_responses)\n",
    "\n",
    "# Print the mode of the survey responses\n",
    "print(\"Mode of the survey responses:\", mode_responses.mode[0])\n",
    "\n"
   ]
  },
  {
   "cell_type": "code",
   "execution_count": 4,
   "metadata": {},
   "outputs": [
    {
     "name": "stdout",
     "output_type": "stream",
     "text": [
      "Median salary for Department A: 5750.0\n",
      "Median salary for Department B: 5500.0\n"
     ]
    }
   ],
   "source": [
    "#Q3:\n",
    "# Define the salary data for each department\n",
    "department_a_salaries = [5000, 6000, 5500, 7000]\n",
    "department_b_salaries = [4500, 5500, 5800, 6000, 5200]\n",
    "\n",
    "# Calculate the median salary for each department\n",
    "median_department_a = np.median(department_a_salaries)\n",
    "median_department_b = np.median(department_b_salaries)\n",
    "\n",
    "# Print the median salary for each department\n",
    "print(\"Median salary for Department A:\", median_department_a)\n",
    "print(\"Median salary for Department B:\", median_department_b)\n"
   ]
  },
  {
   "cell_type": "code",
   "execution_count": 5,
   "metadata": {},
   "outputs": [
    {
     "name": "stdout",
     "output_type": "stream",
     "text": [
      "Range of stock prices: 1.3\n"
     ]
    }
   ],
   "source": [
    "#Q4:\n",
    "stock_prices = [25.5, 24.8, 26.1, 25.3, 24.9]\n",
    "\n",
    "# Calculate the range of stock prices\n",
    "price_range = round((max(stock_prices) - min(stock_prices)),2)\n",
    "\n",
    "# Print the range of stock prices\n",
    "print(\"Range of stock prices:\", (price_range))\n"
   ]
  },
  {
   "cell_type": "code",
   "execution_count": 6,
   "metadata": {},
   "outputs": [
    {
     "name": "stdout",
     "output_type": "stream",
     "text": [
      "t-statistic: 1.4312528946642733\n",
      "p-value: 0.19023970239078333\n"
     ]
    }
   ],
   "source": [
    "#Q5:\n",
    "from scipy import stats\n",
    "\n",
    "# Define the test scores for each group\n",
    "group_a_scores = [85, 90, 92, 88, 91]\n",
    "group_b_scores = [82, 88, 90, 86, 87]\n",
    "\n",
    "# Perform a t-test\n",
    "t_statistic, p_value = stats.ttest_ind(group_a_scores, group_b_scores)\n",
    "\n",
    "# Print the t-statistic and p-value\n",
    "print(\"t-statistic:\", t_statistic)\n",
    "print(\"p-value:\", p_value)\n"
   ]
  },
  {
   "cell_type": "code",
   "execution_count": 7,
   "metadata": {},
   "outputs": [
    {
     "name": "stdout",
     "output_type": "stream",
     "text": [
      "Correlation coefficient: 0.8757511375750132\n"
     ]
    }
   ],
   "source": [
    "#Q6:\n",
    "# Define the advertising expenditure and sales data\n",
    "advertising_expenditure = [10, 15, 12, 8, 14]\n",
    "sales = [25, 30, 28, 20, 26]\n",
    "\n",
    "# Calculate the correlation coefficient\n",
    "correlation_coefficient = np.corrcoef(advertising_expenditure, sales)[0, 1]\n",
    "\n",
    "# Print the correlation coefficient\n",
    "print(\"Correlation coefficient:\", correlation_coefficient)\n"
   ]
  },
  {
   "cell_type": "code",
   "execution_count": 8,
   "metadata": {},
   "outputs": [
    {
     "name": "stdout",
     "output_type": "stream",
     "text": [
      "Standard deviation of heights: 7.953949089757174\n"
     ]
    }
   ],
   "source": [
    "#Q7:\n",
    "# Define the height data\n",
    "heights = [160, 170, 165, 155, 175, 180, 170]\n",
    "\n",
    "# Calculate the standard deviation of the heights\n",
    "std_heights = np.std(heights)\n",
    "\n",
    "# Print the standard deviation of the heights\n",
    "print(\"Standard deviation of heights:\", std_heights)\n"
   ]
  },
  {
   "cell_type": "code",
   "execution_count": 9,
   "metadata": {},
   "outputs": [
    {
     "name": "stdout",
     "output_type": "stream",
     "text": [
      "Slope: -0.4680851063829787\n",
      "Intercept: 8.595744680851062\n",
      "R-value: -0.520573376708331\n",
      "P-value: 0.23095550952297988\n",
      "Standard error: 0.34333860006713723\n"
     ]
    }
   ],
   "source": [
    "#Q8:\n",
    "# Define the employee tenure and job satisfaction data\n",
    "employee_tenure = [2, 3, 5, 4, 6, 2, 4]\n",
    "job_satisfaction = [7, 8, 6, 9, 5, 7, 6]\n",
    "\n",
    "# Perform linear regression analysis\n",
    "slope, intercept, r_value, p_value, std_err = stats.linregress(employee_tenure, job_satisfaction)\n",
    "\n",
    "# Print the results\n",
    "print(\"Slope:\", slope)\n",
    "print(\"Intercept:\", intercept)\n",
    "print(\"R-value:\", r_value)\n",
    "print(\"P-value:\", p_value)\n",
    "print(\"Standard error:\", std_err)\n"
   ]
  },
  {
   "cell_type": "code",
   "execution_count": 10,
   "metadata": {},
   "outputs": [
    {
     "name": "stdout",
     "output_type": "stream",
     "text": [
      "F-statistic: 16.0\n",
      "p-value: 0.003949772803445326\n"
     ]
    }
   ],
   "source": [
    "#Q9:\n",
    "# Define the recovery times for each medication\n",
    "medication_a_recovery_times = [10, 12, 14, 11, 13]\n",
    "medication_b_recovery_times = [15, 17, 16, 14, 18]\n",
    "\n",
    "# Perform ANOVA\n",
    "f_statistic, p_value = stats.f_oneway(medication_a_recovery_times, medication_b_recovery_times)\n",
    "\n",
    "# Print the results\n",
    "print(\"F-statistic:\", f_statistic)\n",
    "print(\"p-value:\", p_value)\n"
   ]
  },
  {
   "cell_type": "code",
   "execution_count": 11,
   "metadata": {},
   "outputs": [
    {
     "name": "stdout",
     "output_type": "stream",
     "text": [
      "75th percentile of the feedback ratings: 8.75\n"
     ]
    }
   ],
   "source": [
    "#Q10:\n",
    "# Define the feedback ratings data\n",
    "feedback_ratings = [8, 9, 7, 6, 8, 10, 9, 8, 7, 8]\n",
    "\n",
    "# Calculate the 75th percentile of the feedback ratings\n",
    "percentile_75 = np.percentile(feedback_ratings, 75)\n",
    "\n",
    "# Print the 75th percentile of the feedback ratings\n",
    "print(\"75th percentile of the feedback ratings:\", percentile_75)\n"
   ]
  },
  {
   "cell_type": "code",
   "execution_count": 12,
   "metadata": {},
   "outputs": [
    {
     "name": "stdout",
     "output_type": "stream",
     "text": [
      "T-statistic: 1.5126584522688367\n",
      "p-value: 0.19077595151110102\n"
     ]
    }
   ],
   "source": [
    "#Q11:\n",
    "# Define the weights of the sample products\n",
    "weights = [10.2, 9.8, 10.0, 10.5, 10.3, 10.1]\n",
    "\n",
    "# Set the null hypothesis mean\n",
    "null_mean = 10\n",
    "\n",
    "# Perform one-sample t-test\n",
    "t_statistic, p_value = stats.ttest_1samp(weights, null_mean)\n",
    "\n",
    "# Print the results\n",
    "print(\"T-statistic:\", t_statistic)\n",
    "print(\"p-value:\", p_value)\n"
   ]
  },
  {
   "cell_type": "code",
   "execution_count": 13,
   "metadata": {},
   "outputs": [
    {
     "name": "stdout",
     "output_type": "stream",
     "text": [
      "Chi-square statistic: 6.110658166925435\n",
      "p-value: 0.19103526314060296\n"
     ]
    }
   ],
   "source": [
    "#Q12:\n",
    "# Define the click-through rates for each design\n",
    "design_a_clicks = [100, 120, 110, 90, 95]\n",
    "design_b_clicks = [80, 85, 90, 95, 100]\n",
    "\n",
    "# Create a contingency table\n",
    "contingency_table = np.array([design_a_clicks, design_b_clicks])\n",
    "\n",
    "# Perform chi-square test\n",
    "chi2_statistic, p_value, _, _ = stats.chi2_contingency(contingency_table)\n",
    "\n",
    "# Print the results\n",
    "print(\"Chi-square statistic:\", chi2_statistic)\n",
    "print(\"p-value:\", p_value)\n"
   ]
  },
  {
   "cell_type": "code",
   "execution_count": 14,
   "metadata": {},
   "outputs": [
    {
     "name": "stdout",
     "output_type": "stream",
     "text": [
      "95% Confidence Interval for the Population Mean:\n",
      "(7.043561120599888, 8.756438879400113)\n"
     ]
    }
   ],
   "source": [
    "#Q13:\n",
    "# Define the satisfaction scores data\n",
    "satisfaction_scores = [7, 9, 6, 8, 10, 7, 8, 9, 7, 8]\n",
    "\n",
    "# Calculate the sample mean and standard error\n",
    "sample_mean = np.mean(satisfaction_scores)\n",
    "standard_error = stats.sem(satisfaction_scores)\n",
    "\n",
    "# Set the confidence level and degrees of freedom\n",
    "confidence_level = 0.95\n",
    "degrees_of_freedom = len(satisfaction_scores) - 1\n",
    "\n",
    "# Calculate the confidence interval\n",
    "confidence_interval = stats.t.interval(confidence_level, degrees_of_freedom, loc=sample_mean, scale=standard_error)\n",
    "\n",
    "# Print the confidence interval\n",
    "print(\"95% Confidence Interval for the Population Mean:\")\n",
    "print(confidence_interval)\n"
   ]
  },
  {
   "cell_type": "code",
   "execution_count": 15,
   "metadata": {},
   "outputs": [
    {
     "name": "stdout",
     "output_type": "stream",
     "text": [
      "Slope: 0.5\n",
      "Intercept: -2.9000000000000004\n",
      "R-value: 0.6933752452815364\n",
      "P-value: 0.19417134561205843\n",
      "Standard error: 0.30000000000000004\n"
     ]
    }
   ],
   "source": [
    "#Q14:\n",
    "# Define the temperature and performance data\n",
    "temperature = [20, 22, 23, 19, 21]\n",
    "performance = [8, 7, 9, 6, 8]\n",
    "\n",
    "# Perform simple linear regression\n",
    "slope, intercept, r_value, p_value, std_err = stats.linregress(temperature, performance)\n",
    "\n",
    "# Print the results\n",
    "print(\"Slope:\", slope)\n",
    "print(\"Intercept:\", intercept)\n",
    "print(\"R-value:\", r_value)\n",
    "print(\"P-value:\", p_value)\n",
    "print(\"Standard error:\", std_err)\n"
   ]
  },
  {
   "cell_type": "code",
   "execution_count": 16,
   "metadata": {},
   "outputs": [
    {
     "name": "stdout",
     "output_type": "stream",
     "text": [
      "Mann-Whitney U statistic: 17.0\n",
      "p-value: 0.380836480306712\n"
     ]
    }
   ],
   "source": [
    "#Q15:\n",
    "# Define the preferences data for each group\n",
    "group_a_preferences = [4, 3, 5, 2, 4]\n",
    "group_b_preferences = [3, 2, 4, 3, 3]\n",
    "\n",
    "# Perform Mann-Whitney U test\n",
    "statistic, p_value = stats.mannwhitneyu(group_a_preferences, group_b_preferences)\n",
    "\n",
    "# Print the results\n",
    "print(\"Mann-Whitney U statistic:\", statistic)\n",
    "print(\"p-value:\", p_value)\n"
   ]
  },
  {
   "cell_type": "code",
   "execution_count": 17,
   "metadata": {},
   "outputs": [
    {
     "name": "stdout",
     "output_type": "stream",
     "text": [
      "Interquartile range (IQR) of the customer ages: 22.5\n"
     ]
    }
   ],
   "source": [
    "#Q16:\n",
    "# Define the customer ages data\n",
    "customer_ages = [25, 30, 35, 40, 45, 50, 55, 60, 65, 70]\n",
    "\n",
    "# Calculate the 25th and 75th percentiles\n",
    "q1 = np.percentile(customer_ages, 25)\n",
    "q3 = np.percentile(customer_ages, 75)\n",
    "\n",
    "# Calculate the interquartile range (IQR)\n",
    "iqr = q3 - q1\n",
    "\n",
    "# Print the interquartile range (IQR)\n",
    "print(\"Interquartile range (IQR) of the customer ages:\", iqr)\n"
   ]
  },
  {
   "cell_type": "code",
   "execution_count": 18,
   "metadata": {},
   "outputs": [
    {
     "name": "stdout",
     "output_type": "stream",
     "text": [
      "Kruskal-Wallis H statistic: 9.696947935368053\n",
      "p-value: 0.007840333026249539\n"
     ]
    }
   ],
   "source": [
    "#Q17:\n",
    "# Define the accuracy scores for each algorithm\n",
    "algorithm_a_scores = [0.85, 0.80, 0.82, 0.87, 0.83]\n",
    "algorithm_b_scores = [0.78, 0.82, 0.84, 0.80, 0.79]\n",
    "algorithm_c_scores = [0.90, 0.88, 0.89, 0.86, 0.87]\n",
    "\n",
    "# Perform Kruskal-Wallis test\n",
    "h_statistic, p_value = stats.kruskal(algorithm_a_scores, algorithm_b_scores, algorithm_c_scores)\n",
    "\n",
    "# Print the results\n",
    "print(\"Kruskal-Wallis H statistic:\", h_statistic)\n",
    "print(\"p-value:\", p_value)\n"
   ]
  },
  {
   "cell_type": "code",
   "execution_count": 19,
   "metadata": {},
   "outputs": [
    {
     "name": "stdout",
     "output_type": "stream",
     "text": [
      "Slope: -3.506097560975609\n",
      "Intercept: 136.3719512195122\n",
      "R-value: -0.8979991308594848\n",
      "P-value: 0.03850178234753776\n",
      "Standard error: 0.9918303504036147\n"
     ]
    }
   ],
   "source": [
    "#Q18:\n",
    "# Define the price and sales data\n",
    "price = [10, 15, 12, 8, 14]\n",
    "sales = [100, 80, 90, 110, 95]\n",
    "\n",
    "# Perform simple linear regression\n",
    "slope, intercept, r_value, p_value, std_err = stats.linregress(price, sales)\n",
    "\n",
    "# Print the results\n",
    "print(\"Slope:\", slope)\n",
    "print(\"Intercept:\", intercept)\n",
    "print(\"R-value:\", r_value)\n",
    "print(\"P-value:\", p_value)\n",
    "print(\"Standard error:\", std_err)\n"
   ]
  },
  {
   "cell_type": "code",
   "execution_count": 20,
   "metadata": {},
   "outputs": [
    {
     "name": "stdout",
     "output_type": "stream",
     "text": [
      "Standard error of the mean satisfaction score: 0.30550504633038933\n"
     ]
    }
   ],
   "source": [
    "#Q19:\n",
    "# Define the satisfaction scores data\n",
    "satisfaction_scores = [7, 8, 9, 6, 8, 7, 9, 7, 8, 7]\n",
    "\n",
    "# Calculate the standard error of the mean\n",
    "standard_error = stats.sem(satisfaction_scores)\n",
    "\n",
    "# Print the standard error of the mean\n",
    "print(\"Standard error of the mean satisfaction score:\", standard_error)\n"
   ]
  },
  {
   "cell_type": "code",
   "execution_count": 24,
   "metadata": {},
   "outputs": [
    {
     "name": "stdout",
     "output_type": "stream",
     "text": [
      "Coefficient: 1.152439024390244\n",
      "Intercept: 12.20121951219512\n",
      "Predicted sales: [24.87804878 27.18292683]\n"
     ]
    }
   ],
   "source": [
    "#Q20:\n",
    "from sklearn.linear_model import LinearRegression\n",
    "\n",
    "# Define the advertising expenditure and sales data\n",
    "advertising_expenditure = np.array([10, 15, 12, 8, 14]).reshape(-1, 1)\n",
    "sales = np.array([25, 30, 28, 20, 26])\n",
    "\n",
    "# Create a linear regression model\n",
    "model = LinearRegression()\n",
    "\n",
    "# Fit the model to the data\n",
    "model.fit(advertising_expenditure, sales)\n",
    "\n",
    "# Print the coefficient and intercept\n",
    "print(\"Coefficient:\", model.coef_[0])\n",
    "print(\"Intercept:\", model.intercept_)\n",
    "\n",
    "# Predict sales for a new advertising expenditure\n",
    "new_advertising_expenditure = np.array([[11], [13]])\n",
    "predicted_sales = model.predict(new_advertising_expenditure)\n",
    "print(\"Predicted sales:\", predicted_sales)\n",
    "\n"
   ]
  },
  {
   "cell_type": "code",
   "execution_count": null,
   "metadata": {},
   "outputs": [],
   "source": []
  }
 ],
 "metadata": {
  "kernelspec": {
   "display_name": "Python 3",
   "language": "python",
   "name": "python3"
  },
  "language_info": {
   "codemirror_mode": {
    "name": "ipython",
    "version": 3
   },
   "file_extension": ".py",
   "mimetype": "text/x-python",
   "name": "python",
   "nbconvert_exporter": "python",
   "pygments_lexer": "ipython3",
   "version": "3.8.5"
  }
 },
 "nbformat": 4,
 "nbformat_minor": 4
}
